{
 "cells": [
  {
   "cell_type": "markdown",
   "metadata": {},
   "source": [
    "### BMI 500 - Homework 7"
   ]
  },
  {
   "cell_type": "markdown",
   "metadata": {},
   "source": [
    "The resources that were consulted in this analysis are located in the References section of the report for this homework."
   ]
  },
  {
   "cell_type": "code",
   "execution_count": 1,
   "metadata": {},
   "outputs": [],
   "source": [
    "import sqlite3\n",
    "import pandas as pd\n",
    "import matplotlib.pyplot as plt\n",
    "import numpy as np\n",
    "from sklearn.cluster import KMeans\n",
    "from sklearn.preprocessing import StandardScaler\n",
    "from sklearn.decomposition import PCA\n",
    "from datetime import datetime"
   ]
  },
  {
   "cell_type": "markdown",
   "metadata": {},
   "source": [
    "Read in clinical information csv files as pandas dataframes"
   ]
  },
  {
   "cell_type": "code",
   "execution_count": 2,
   "metadata": {},
   "outputs": [],
   "source": [
    "labitems = pd.read_csv(\"clinical/D_LABITEMS.csv\") # Lab Items csv\n",
    "labevents = pd.read_csv(\"clinical/LABEVENTS.csv\") # Lab Events csv"
   ]
  },
  {
   "cell_type": "markdown",
   "metadata": {},
   "source": [
    "Connect and store in SQL databse using sqlite. Set up cursor. "
   ]
  },
  {
   "cell_type": "code",
   "execution_count": 3,
   "metadata": {},
   "outputs": [],
   "source": [
    "c = sqlite3.connect(\"clinicalDB.db\") # open connection to new SQL databse\n",
    "labitems.to_sql('LABITEMS', c) # add lab items csv to clinical \n",
    "labevents.to_sql('LABEVENTS', c) # add lab items csv to clinical \n",
    "cur = c.cursor"
   ]
  },
  {
   "cell_type": "markdown",
   "metadata": {},
   "source": [
    "View data in LABITEMS using sqlite and pandas"
   ]
  },
  {
   "cell_type": "code",
   "execution_count": 4,
   "metadata": {},
   "outputs": [
    {
     "data": {
      "text/html": [
       "<div>\n",
       "<style scoped>\n",
       "    .dataframe tbody tr th:only-of-type {\n",
       "        vertical-align: middle;\n",
       "    }\n",
       "\n",
       "    .dataframe tbody tr th {\n",
       "        vertical-align: top;\n",
       "    }\n",
       "\n",
       "    .dataframe thead th {\n",
       "        text-align: right;\n",
       "    }\n",
       "</style>\n",
       "<table border=\"1\" class=\"dataframe\">\n",
       "  <thead>\n",
       "    <tr style=\"text-align: right;\">\n",
       "      <th></th>\n",
       "      <th>index</th>\n",
       "      <th>row_id</th>\n",
       "      <th>itemid</th>\n",
       "      <th>label</th>\n",
       "      <th>fluid</th>\n",
       "      <th>category</th>\n",
       "      <th>loinc_code</th>\n",
       "    </tr>\n",
       "  </thead>\n",
       "  <tbody>\n",
       "    <tr>\n",
       "      <th>0</th>\n",
       "      <td>0</td>\n",
       "      <td>1</td>\n",
       "      <td>50800</td>\n",
       "      <td>SPECIMEN TYPE</td>\n",
       "      <td>BLOOD</td>\n",
       "      <td>BLOOD GAS</td>\n",
       "      <td>None</td>\n",
       "    </tr>\n",
       "    <tr>\n",
       "      <th>1</th>\n",
       "      <td>1</td>\n",
       "      <td>2</td>\n",
       "      <td>50801</td>\n",
       "      <td>Alveolar-arterial Gradient</td>\n",
       "      <td>Blood</td>\n",
       "      <td>Blood Gas</td>\n",
       "      <td>19991-9</td>\n",
       "    </tr>\n",
       "    <tr>\n",
       "      <th>2</th>\n",
       "      <td>2</td>\n",
       "      <td>3</td>\n",
       "      <td>50802</td>\n",
       "      <td>Base Excess</td>\n",
       "      <td>Blood</td>\n",
       "      <td>Blood Gas</td>\n",
       "      <td>11555-0</td>\n",
       "    </tr>\n",
       "    <tr>\n",
       "      <th>3</th>\n",
       "      <td>3</td>\n",
       "      <td>4</td>\n",
       "      <td>50803</td>\n",
       "      <td>Calculated Bicarbonate, Whole Blood</td>\n",
       "      <td>Blood</td>\n",
       "      <td>Blood Gas</td>\n",
       "      <td>1959-6</td>\n",
       "    </tr>\n",
       "    <tr>\n",
       "      <th>4</th>\n",
       "      <td>4</td>\n",
       "      <td>5</td>\n",
       "      <td>50804</td>\n",
       "      <td>Calculated Total CO2</td>\n",
       "      <td>Blood</td>\n",
       "      <td>Blood Gas</td>\n",
       "      <td>34728-6</td>\n",
       "    </tr>\n",
       "    <tr>\n",
       "      <th>...</th>\n",
       "      <td>...</td>\n",
       "      <td>...</td>\n",
       "      <td>...</td>\n",
       "      <td>...</td>\n",
       "      <td>...</td>\n",
       "      <td>...</td>\n",
       "      <td>...</td>\n",
       "    </tr>\n",
       "    <tr>\n",
       "      <th>748</th>\n",
       "      <td>748</td>\n",
       "      <td>749</td>\n",
       "      <td>51551</td>\n",
       "      <td>VOIDED SPECIMEN</td>\n",
       "      <td>OTHER BODY FLUID</td>\n",
       "      <td>HEMATOLOGY</td>\n",
       "      <td>None</td>\n",
       "    </tr>\n",
       "    <tr>\n",
       "      <th>749</th>\n",
       "      <td>749</td>\n",
       "      <td>750</td>\n",
       "      <td>51552</td>\n",
       "      <td>VOIDED SPECIMEN</td>\n",
       "      <td>STOOL</td>\n",
       "      <td>CHEMISTRY</td>\n",
       "      <td>None</td>\n",
       "    </tr>\n",
       "    <tr>\n",
       "      <th>750</th>\n",
       "      <td>750</td>\n",
       "      <td>751</td>\n",
       "      <td>51553</td>\n",
       "      <td>VOIDED SPECIMEN</td>\n",
       "      <td>URINE</td>\n",
       "      <td>CHEMISTRY</td>\n",
       "      <td>None</td>\n",
       "    </tr>\n",
       "    <tr>\n",
       "      <th>751</th>\n",
       "      <td>751</td>\n",
       "      <td>752</td>\n",
       "      <td>51554</td>\n",
       "      <td>VOIDED SPECIMEN</td>\n",
       "      <td>JOINT FLUID</td>\n",
       "      <td>HEMATOLOGY</td>\n",
       "      <td>None</td>\n",
       "    </tr>\n",
       "    <tr>\n",
       "      <th>752</th>\n",
       "      <td>752</td>\n",
       "      <td>753</td>\n",
       "      <td>51555</td>\n",
       "      <td>SURFACTANT ALBUMIN RATIO</td>\n",
       "      <td>OTHER BODY FLUID</td>\n",
       "      <td>CHEMISTRY</td>\n",
       "      <td>None</td>\n",
       "    </tr>\n",
       "  </tbody>\n",
       "</table>\n",
       "<p>753 rows × 7 columns</p>\n",
       "</div>"
      ],
      "text/plain": [
       "     index  row_id  itemid                                label  \\\n",
       "0        0       1   50800                        SPECIMEN TYPE   \n",
       "1        1       2   50801           Alveolar-arterial Gradient   \n",
       "2        2       3   50802                          Base Excess   \n",
       "3        3       4   50803  Calculated Bicarbonate, Whole Blood   \n",
       "4        4       5   50804                 Calculated Total CO2   \n",
       "..     ...     ...     ...                                  ...   \n",
       "748    748     749   51551                      VOIDED SPECIMEN   \n",
       "749    749     750   51552                      VOIDED SPECIMEN   \n",
       "750    750     751   51553                      VOIDED SPECIMEN   \n",
       "751    751     752   51554                      VOIDED SPECIMEN   \n",
       "752    752     753   51555             SURFACTANT ALBUMIN RATIO   \n",
       "\n",
       "                fluid    category loinc_code  \n",
       "0               BLOOD   BLOOD GAS       None  \n",
       "1               Blood   Blood Gas    19991-9  \n",
       "2               Blood   Blood Gas    11555-0  \n",
       "3               Blood   Blood Gas     1959-6  \n",
       "4               Blood   Blood Gas    34728-6  \n",
       "..                ...         ...        ...  \n",
       "748  OTHER BODY FLUID  HEMATOLOGY       None  \n",
       "749             STOOL   CHEMISTRY       None  \n",
       "750             URINE   CHEMISTRY       None  \n",
       "751       JOINT FLUID  HEMATOLOGY       None  \n",
       "752  OTHER BODY FLUID   CHEMISTRY       None  \n",
       "\n",
       "[753 rows x 7 columns]"
      ]
     },
     "execution_count": 4,
     "metadata": {},
     "output_type": "execute_result"
    }
   ],
   "source": [
    "q = pd.read_sql_query(\"SELECT * FROM LABITEMS\", c)\n",
    "q"
   ]
  },
  {
   "cell_type": "markdown",
   "metadata": {},
   "source": [
    "Search the label column for creatinine serum, extract itemid associated with it. "
   ]
  },
  {
   "cell_type": "code",
   "execution_count": 5,
   "metadata": {},
   "outputs": [
    {
     "data": {
      "text/html": [
       "<div>\n",
       "<style scoped>\n",
       "    .dataframe tbody tr th:only-of-type {\n",
       "        vertical-align: middle;\n",
       "    }\n",
       "\n",
       "    .dataframe tbody tr th {\n",
       "        vertical-align: top;\n",
       "    }\n",
       "\n",
       "    .dataframe thead th {\n",
       "        text-align: right;\n",
       "    }\n",
       "</style>\n",
       "<table border=\"1\" class=\"dataframe\">\n",
       "  <thead>\n",
       "    <tr style=\"text-align: right;\">\n",
       "      <th></th>\n",
       "      <th>itemid</th>\n",
       "    </tr>\n",
       "  </thead>\n",
       "  <tbody>\n",
       "    <tr>\n",
       "      <th>0</th>\n",
       "      <td>50841</td>\n",
       "    </tr>\n",
       "    <tr>\n",
       "      <th>1</th>\n",
       "      <td>50912</td>\n",
       "    </tr>\n",
       "    <tr>\n",
       "      <th>2</th>\n",
       "      <td>51021</td>\n",
       "    </tr>\n",
       "    <tr>\n",
       "      <th>3</th>\n",
       "      <td>51032</td>\n",
       "    </tr>\n",
       "    <tr>\n",
       "      <th>4</th>\n",
       "      <td>51052</td>\n",
       "    </tr>\n",
       "    <tr>\n",
       "      <th>5</th>\n",
       "      <td>51067</td>\n",
       "    </tr>\n",
       "    <tr>\n",
       "      <th>6</th>\n",
       "      <td>51070</td>\n",
       "    </tr>\n",
       "    <tr>\n",
       "      <th>7</th>\n",
       "      <td>51073</td>\n",
       "    </tr>\n",
       "    <tr>\n",
       "      <th>8</th>\n",
       "      <td>51080</td>\n",
       "    </tr>\n",
       "    <tr>\n",
       "      <th>9</th>\n",
       "      <td>51081</td>\n",
       "    </tr>\n",
       "    <tr>\n",
       "      <th>10</th>\n",
       "      <td>51082</td>\n",
       "    </tr>\n",
       "    <tr>\n",
       "      <th>11</th>\n",
       "      <td>51099</td>\n",
       "    </tr>\n",
       "    <tr>\n",
       "      <th>12</th>\n",
       "      <td>51106</td>\n",
       "    </tr>\n",
       "  </tbody>\n",
       "</table>\n",
       "</div>"
      ],
      "text/plain": [
       "    itemid\n",
       "0    50841\n",
       "1    50912\n",
       "2    51021\n",
       "3    51032\n",
       "4    51052\n",
       "5    51067\n",
       "6    51070\n",
       "7    51073\n",
       "8    51080\n",
       "9    51081\n",
       "10   51082\n",
       "11   51099\n",
       "12   51106"
      ]
     },
     "execution_count": 5,
     "metadata": {},
     "output_type": "execute_result"
    }
   ],
   "source": [
    "creatinineID = pd.read_sql_query(\"SELECT itemid FROM LABITEMS WHERE label LIKE '%Creatinine%' \", c)\n",
    "creatinineID"
   ]
  },
  {
   "cell_type": "markdown",
   "metadata": {},
   "source": [
    "Search the label column for Urine Volume, extract itemid associated with it."
   ]
  },
  {
   "cell_type": "code",
   "execution_count": 6,
   "metadata": {},
   "outputs": [
    {
     "data": {
      "text/html": [
       "<div>\n",
       "<style scoped>\n",
       "    .dataframe tbody tr th:only-of-type {\n",
       "        vertical-align: middle;\n",
       "    }\n",
       "\n",
       "    .dataframe tbody tr th {\n",
       "        vertical-align: top;\n",
       "    }\n",
       "\n",
       "    .dataframe thead th {\n",
       "        text-align: right;\n",
       "    }\n",
       "</style>\n",
       "<table border=\"1\" class=\"dataframe\">\n",
       "  <thead>\n",
       "    <tr style=\"text-align: right;\">\n",
       "      <th></th>\n",
       "      <th>itemid</th>\n",
       "    </tr>\n",
       "  </thead>\n",
       "  <tbody>\n",
       "    <tr>\n",
       "      <th>0</th>\n",
       "      <td>51107</td>\n",
       "    </tr>\n",
       "    <tr>\n",
       "      <th>1</th>\n",
       "      <td>51108</td>\n",
       "    </tr>\n",
       "    <tr>\n",
       "      <th>2</th>\n",
       "      <td>51109</td>\n",
       "    </tr>\n",
       "  </tbody>\n",
       "</table>\n",
       "</div>"
      ],
      "text/plain": [
       "   itemid\n",
       "0   51107\n",
       "1   51108\n",
       "2   51109"
      ]
     },
     "execution_count": 6,
     "metadata": {},
     "output_type": "execute_result"
    }
   ],
   "source": [
    "urineID = pd.read_sql_query(\"SELECT itemid FROM LABITEMS WHERE label LIKE '%Urine Volume%' OR label LIKE'%Urine tube, held%' \", c)\n",
    "urineID"
   ]
  },
  {
   "cell_type": "markdown",
   "metadata": {},
   "source": [
    "Extract subject_id, charttime, valuenum columns where itemid is one of creatineIDs. Store in new SQL table."
   ]
  },
  {
   "cell_type": "code",
   "execution_count": 7,
   "metadata": {},
   "outputs": [
    {
     "data": {
      "text/html": [
       "<div>\n",
       "<style scoped>\n",
       "    .dataframe tbody tr th:only-of-type {\n",
       "        vertical-align: middle;\n",
       "    }\n",
       "\n",
       "    .dataframe tbody tr th {\n",
       "        vertical-align: top;\n",
       "    }\n",
       "\n",
       "    .dataframe thead th {\n",
       "        text-align: right;\n",
       "    }\n",
       "</style>\n",
       "<table border=\"1\" class=\"dataframe\">\n",
       "  <thead>\n",
       "    <tr style=\"text-align: right;\">\n",
       "      <th></th>\n",
       "      <th>subject_id</th>\n",
       "      <th>charttime</th>\n",
       "      <th>valuenum</th>\n",
       "      <th>valueuom</th>\n",
       "    </tr>\n",
       "  </thead>\n",
       "  <tbody>\n",
       "    <tr>\n",
       "      <th>0</th>\n",
       "      <td>10006</td>\n",
       "      <td>2164-09-24 20:21:00</td>\n",
       "      <td>7.0</td>\n",
       "      <td>mg/dL</td>\n",
       "    </tr>\n",
       "    <tr>\n",
       "      <th>1</th>\n",
       "      <td>10006</td>\n",
       "      <td>2164-09-25 05:25:00</td>\n",
       "      <td>7.4</td>\n",
       "      <td>mg/dL</td>\n",
       "    </tr>\n",
       "    <tr>\n",
       "      <th>2</th>\n",
       "      <td>10006</td>\n",
       "      <td>2164-09-26 07:00:00</td>\n",
       "      <td>8.3</td>\n",
       "      <td>mg/dL</td>\n",
       "    </tr>\n",
       "    <tr>\n",
       "      <th>3</th>\n",
       "      <td>10006</td>\n",
       "      <td>2164-09-28 08:20:00</td>\n",
       "      <td>6.2</td>\n",
       "      <td>mg/dL</td>\n",
       "    </tr>\n",
       "    <tr>\n",
       "      <th>4</th>\n",
       "      <td>10006</td>\n",
       "      <td>2164-09-29 05:10:00</td>\n",
       "      <td>5.9</td>\n",
       "      <td>mg/dL</td>\n",
       "    </tr>\n",
       "    <tr>\n",
       "      <th>...</th>\n",
       "      <td>...</td>\n",
       "      <td>...</td>\n",
       "      <td>...</td>\n",
       "      <td>...</td>\n",
       "    </tr>\n",
       "    <tr>\n",
       "      <th>2290</th>\n",
       "      <td>44228</td>\n",
       "      <td>2170-12-19 02:13:00</td>\n",
       "      <td>0.6</td>\n",
       "      <td>mg/dL</td>\n",
       "    </tr>\n",
       "    <tr>\n",
       "      <th>2291</th>\n",
       "      <td>44228</td>\n",
       "      <td>2170-12-20 06:30:00</td>\n",
       "      <td>0.5</td>\n",
       "      <td>mg/dL</td>\n",
       "    </tr>\n",
       "    <tr>\n",
       "      <th>2292</th>\n",
       "      <td>44228</td>\n",
       "      <td>2170-12-21 05:44:00</td>\n",
       "      <td>0.5</td>\n",
       "      <td>mg/dL</td>\n",
       "    </tr>\n",
       "    <tr>\n",
       "      <th>2293</th>\n",
       "      <td>44228</td>\n",
       "      <td>2170-12-22 09:28:00</td>\n",
       "      <td>0.6</td>\n",
       "      <td>mg/dL</td>\n",
       "    </tr>\n",
       "    <tr>\n",
       "      <th>2294</th>\n",
       "      <td>44228</td>\n",
       "      <td>2170-12-23 04:36:00</td>\n",
       "      <td>0.6</td>\n",
       "      <td>mg/dL</td>\n",
       "    </tr>\n",
       "  </tbody>\n",
       "</table>\n",
       "<p>2295 rows × 4 columns</p>\n",
       "</div>"
      ],
      "text/plain": [
       "      subject_id            charttime  valuenum valueuom\n",
       "0          10006  2164-09-24 20:21:00       7.0    mg/dL\n",
       "1          10006  2164-09-25 05:25:00       7.4    mg/dL\n",
       "2          10006  2164-09-26 07:00:00       8.3    mg/dL\n",
       "3          10006  2164-09-28 08:20:00       6.2    mg/dL\n",
       "4          10006  2164-09-29 05:10:00       5.9    mg/dL\n",
       "...          ...                  ...       ...      ...\n",
       "2290       44228  2170-12-19 02:13:00       0.6    mg/dL\n",
       "2291       44228  2170-12-20 06:30:00       0.5    mg/dL\n",
       "2292       44228  2170-12-21 05:44:00       0.5    mg/dL\n",
       "2293       44228  2170-12-22 09:28:00       0.6    mg/dL\n",
       "2294       44228  2170-12-23 04:36:00       0.6    mg/dL\n",
       "\n",
       "[2295 rows x 4 columns]"
      ]
     },
     "execution_count": 7,
     "metadata": {},
     "output_type": "execute_result"
    }
   ],
   "source": [
    "creatinineINFO = pd.read_sql_query(\"SELECT subject_id,charttime,valuenum,valueuom FROM LABEVENTS WHERE itemid IN (50841,50912,51021,51032,51052,51067,51070,51073,51080,51081,51082,51099,51106)\",c)\n",
    "creatinineINFO.to_sql('CR', c) # add to clinical SQL server\n",
    "creatinineINFO"
   ]
  },
  {
   "cell_type": "markdown",
   "metadata": {},
   "source": [
    "Extract subject_id, charttime, valuenum columns where itemid is one of urineIDs. Store in new SQL table."
   ]
  },
  {
   "cell_type": "code",
   "execution_count": 8,
   "metadata": {},
   "outputs": [
    {
     "data": {
      "text/html": [
       "<div>\n",
       "<style scoped>\n",
       "    .dataframe tbody tr th:only-of-type {\n",
       "        vertical-align: middle;\n",
       "    }\n",
       "\n",
       "    .dataframe tbody tr th {\n",
       "        vertical-align: top;\n",
       "    }\n",
       "\n",
       "    .dataframe thead th {\n",
       "        text-align: right;\n",
       "    }\n",
       "</style>\n",
       "<table border=\"1\" class=\"dataframe\">\n",
       "  <thead>\n",
       "    <tr style=\"text-align: right;\">\n",
       "      <th></th>\n",
       "      <th>subject_id</th>\n",
       "      <th>charttime</th>\n",
       "      <th>valuenum</th>\n",
       "      <th>valueuom</th>\n",
       "    </tr>\n",
       "  </thead>\n",
       "  <tbody>\n",
       "    <tr>\n",
       "      <th>0</th>\n",
       "      <td>10011</td>\n",
       "      <td>2126-08-19 21:17:00</td>\n",
       "      <td>2825.0</td>\n",
       "      <td>mL</td>\n",
       "    </tr>\n",
       "    <tr>\n",
       "      <th>1</th>\n",
       "      <td>10117</td>\n",
       "      <td>2138-09-21 10:25:00</td>\n",
       "      <td>1325.0</td>\n",
       "      <td>mL</td>\n",
       "    </tr>\n",
       "    <tr>\n",
       "      <th>2</th>\n",
       "      <td>10117</td>\n",
       "      <td>2138-10-08 21:10:00</td>\n",
       "      <td>475.0</td>\n",
       "      <td>mL</td>\n",
       "    </tr>\n",
       "    <tr>\n",
       "      <th>3</th>\n",
       "      <td>10117</td>\n",
       "      <td>2138-10-10 11:10:00</td>\n",
       "      <td>350.0</td>\n",
       "      <td>mL</td>\n",
       "    </tr>\n",
       "    <tr>\n",
       "      <th>4</th>\n",
       "      <td>10130</td>\n",
       "      <td>2161-02-03 22:00:00</td>\n",
       "      <td>1425.0</td>\n",
       "      <td>mL</td>\n",
       "    </tr>\n",
       "  </tbody>\n",
       "</table>\n",
       "</div>"
      ],
      "text/plain": [
       "   subject_id            charttime  valuenum valueuom\n",
       "0       10011  2126-08-19 21:17:00    2825.0       mL\n",
       "1       10117  2138-09-21 10:25:00    1325.0       mL\n",
       "2       10117  2138-10-08 21:10:00     475.0       mL\n",
       "3       10117  2138-10-10 11:10:00     350.0       mL\n",
       "4       10130  2161-02-03 22:00:00    1425.0       mL"
      ]
     },
     "execution_count": 8,
     "metadata": {},
     "output_type": "execute_result"
    }
   ],
   "source": [
    "urineINFO = pd.read_sql_query(\"SELECT subject_id,charttime,valuenum,valueuom FROM LABEVENTS WHERE itemid IN (51107,51108,51109)\",c)\n",
    "urineINFO.to_sql('UR', c) # add to clinical SQL server\n",
    "urineINFO"
   ]
  },
  {
   "cell_type": "markdown",
   "metadata": {},
   "source": [
    "Since there is not enough information in the databse about urine output (no mL/time measurements), I will only be using creatinine values for AKI classification. I will be using the average creatinine baseline value from this resource: https://bestpractice.bmj.com/topics/en-us/935 .\n",
    "\n",
    "Assuming Baseline = 0.85 mg/dL ...\n",
    "\n",
    "Stage1 = 1.23 to 1.62 mg/dL\n",
    "\n",
    "Stage2 = 1.7 to 2.47 mg/dL\n",
    "\n",
    "Stage3 = greater than 2.47 mg/dL \n",
    "\n",
    "How many subjects have achieved AKI stage 1? Store the subject information in a new table. "
   ]
  },
  {
   "cell_type": "code",
   "execution_count": 9,
   "metadata": {},
   "outputs": [
    {
     "data": {
      "text/html": [
       "<div>\n",
       "<style scoped>\n",
       "    .dataframe tbody tr th:only-of-type {\n",
       "        vertical-align: middle;\n",
       "    }\n",
       "\n",
       "    .dataframe tbody tr th {\n",
       "        vertical-align: top;\n",
       "    }\n",
       "\n",
       "    .dataframe thead th {\n",
       "        text-align: right;\n",
       "    }\n",
       "</style>\n",
       "<table border=\"1\" class=\"dataframe\">\n",
       "  <thead>\n",
       "    <tr style=\"text-align: right;\">\n",
       "      <th></th>\n",
       "      <th>COUNT(subject_ID)</th>\n",
       "    </tr>\n",
       "  </thead>\n",
       "  <tbody>\n",
       "    <tr>\n",
       "      <th>0</th>\n",
       "      <td>219</td>\n",
       "    </tr>\n",
       "  </tbody>\n",
       "</table>\n",
       "</div>"
      ],
      "text/plain": [
       "   COUNT(subject_ID)\n",
       "0                219"
      ]
     },
     "execution_count": 9,
     "metadata": {},
     "output_type": "execute_result"
    }
   ],
   "source": [
    "stage1 = pd.read_sql_query(\"SELECT * FROM CR WHERE valuenum >= 1.23 and valuenum <= 1.62\",c)\n",
    "stage1.to_sql(\"Stage1\",c) # add to clinical SQL server\n",
    "pd.read_sql_query(\"SELECT COUNT(subject_ID) FROM CR WHERE valuenum >= 1.23 and valuenum <= 1.62\",c)"
   ]
  },
  {
   "cell_type": "markdown",
   "metadata": {},
   "source": [
    "How many subjects have achieved AKI stage 2? Store the subject information in a new table."
   ]
  },
  {
   "cell_type": "code",
   "execution_count": 10,
   "metadata": {},
   "outputs": [
    {
     "data": {
      "text/html": [
       "<div>\n",
       "<style scoped>\n",
       "    .dataframe tbody tr th:only-of-type {\n",
       "        vertical-align: middle;\n",
       "    }\n",
       "\n",
       "    .dataframe tbody tr th {\n",
       "        vertical-align: top;\n",
       "    }\n",
       "\n",
       "    .dataframe thead th {\n",
       "        text-align: right;\n",
       "    }\n",
       "</style>\n",
       "<table border=\"1\" class=\"dataframe\">\n",
       "  <thead>\n",
       "    <tr style=\"text-align: right;\">\n",
       "      <th></th>\n",
       "      <th>COUNT(subject_ID)</th>\n",
       "    </tr>\n",
       "  </thead>\n",
       "  <tbody>\n",
       "    <tr>\n",
       "      <th>0</th>\n",
       "      <td>227</td>\n",
       "    </tr>\n",
       "  </tbody>\n",
       "</table>\n",
       "</div>"
      ],
      "text/plain": [
       "   COUNT(subject_ID)\n",
       "0                227"
      ]
     },
     "execution_count": 10,
     "metadata": {},
     "output_type": "execute_result"
    }
   ],
   "source": [
    "stage2 = pd.read_sql_query(\"SELECT * FROM CR WHERE valuenum >= 1.7 and valuenum <= 2.47\",c)\n",
    "stage2.to_sql(\"Stage2\",c) # add to clinical SQL server\n",
    "pd.read_sql_query(\"SELECT COUNT(subject_ID) FROM CR WHERE valuenum >= 1.7 and valuenum <= 2.47\",c)"
   ]
  },
  {
   "cell_type": "markdown",
   "metadata": {},
   "source": [
    "How many subjects have achieved AKI stage 3? Store the subject information in a new table."
   ]
  },
  {
   "cell_type": "code",
   "execution_count": 11,
   "metadata": {},
   "outputs": [
    {
     "data": {
      "text/html": [
       "<div>\n",
       "<style scoped>\n",
       "    .dataframe tbody tr th:only-of-type {\n",
       "        vertical-align: middle;\n",
       "    }\n",
       "\n",
       "    .dataframe tbody tr th {\n",
       "        vertical-align: top;\n",
       "    }\n",
       "\n",
       "    .dataframe thead th {\n",
       "        text-align: right;\n",
       "    }\n",
       "</style>\n",
       "<table border=\"1\" class=\"dataframe\">\n",
       "  <thead>\n",
       "    <tr style=\"text-align: right;\">\n",
       "      <th></th>\n",
       "      <th>COUNT(subject_ID)</th>\n",
       "    </tr>\n",
       "  </thead>\n",
       "  <tbody>\n",
       "    <tr>\n",
       "      <th>0</th>\n",
       "      <td>429</td>\n",
       "    </tr>\n",
       "  </tbody>\n",
       "</table>\n",
       "</div>"
      ],
      "text/plain": [
       "   COUNT(subject_ID)\n",
       "0                429"
      ]
     },
     "execution_count": 11,
     "metadata": {},
     "output_type": "execute_result"
    }
   ],
   "source": [
    "stage3 = pd.read_sql_query(\"SELECT * FROM CR WHERE valuenum > 2.47\",c)\n",
    "stage3.to_sql(\"Stage3\",c)\n",
    "pd.read_sql_query(\"SELECT COUNT(subject_ID) FROM CR WHERE valuenum > 2.47\",c)"
   ]
  },
  {
   "cell_type": "markdown",
   "metadata": {},
   "source": [
    "Find subjects that have not reached AKI, store in a new table. How many have not?"
   ]
  },
  {
   "cell_type": "code",
   "execution_count": 12,
   "metadata": {},
   "outputs": [
    {
     "data": {
      "text/html": [
       "<div>\n",
       "<style scoped>\n",
       "    .dataframe tbody tr th:only-of-type {\n",
       "        vertical-align: middle;\n",
       "    }\n",
       "\n",
       "    .dataframe tbody tr th {\n",
       "        vertical-align: top;\n",
       "    }\n",
       "\n",
       "    .dataframe thead th {\n",
       "        text-align: right;\n",
       "    }\n",
       "</style>\n",
       "<table border=\"1\" class=\"dataframe\">\n",
       "  <thead>\n",
       "    <tr style=\"text-align: right;\">\n",
       "      <th></th>\n",
       "      <th>COUNT(subject_ID)</th>\n",
       "    </tr>\n",
       "  </thead>\n",
       "  <tbody>\n",
       "    <tr>\n",
       "      <th>0</th>\n",
       "      <td>1419</td>\n",
       "    </tr>\n",
       "  </tbody>\n",
       "</table>\n",
       "</div>"
      ],
      "text/plain": [
       "   COUNT(subject_ID)\n",
       "0               1419"
      ]
     },
     "execution_count": 12,
     "metadata": {},
     "output_type": "execute_result"
    }
   ],
   "source": [
    "stage0 = pd.read_sql_query(\"SELECT * FROM CR WHERE valuenum < 1.23\",c)\n",
    "stage0.to_sql(\"Stage0\",c)\n",
    "pd.read_sql_query(\"SELECT COUNT(subject_ID) FROM CR WHERE valuenum < 1.23\",c)"
   ]
  },
  {
   "cell_type": "markdown",
   "metadata": {},
   "source": [
    "In stage0, how many values do we have for each patient? Plot a histogram."
   ]
  },
  {
   "cell_type": "code",
   "execution_count": 13,
   "metadata": {},
   "outputs": [
    {
     "data": {
      "image/png": "[encoded data removed]",
      "text/plain": [
       "<Figure size 432x288 with 1 Axes>"
      ]
     },
     "metadata": {
      "needs_background": "light"
     },
     "output_type": "display_data"
    }
   ],
   "source": [
    "count0 = pd.read_sql_query(\"SELECT COUNT(valuenum) FROM stage0 GROUP BY subject_id\",c)\n",
    "n, bins, patches = plt.hist(count0.iloc[:,0], 50, facecolor='blue', alpha=0.5)\n",
    "plt.show()"
   ]
  },
  {
   "cell_type": "markdown",
   "metadata": {},
   "source": [
    "Next, make a data frame with the subject id and all the stage0 values for that subject. In order to account for missing values, I will take the average of the values for that subject. "
   ]
  },
  {
   "cell_type": "code",
   "execution_count": 14,
   "metadata": {},
   "outputs": [],
   "source": [
    "sub0 = pd.read_sql_query(\"SELECT subject_id,valuenum FROM Stage0\",c)\n",
    "subjects = np.unique(sub0.iloc[:,0])\n",
    "maxNum = max(count0.iloc[:,0])\n",
    "df = pd.DataFrame(np.zeros(shape = (len(subjects),maxNum)), index = subjects) # create dataframe of zeros\n",
    "for i in range(0,len(subjects)): # go through each row to fill in column values\n",
    "    valsI = sub0.loc[sub0[\"subject_id\"] == subjects[i],\"valuenum\"]\n",
    "    if (len(valsI) < maxNum): # if there will be missing values, fill them in with the average of the values\n",
    "        avgI = sum(valsI)/len(valsI) # find average of current values\n",
    "        df.iloc[i,range(0,len(valsI))] = valsI # fill current values\n",
    "        df.iloc[i,range(len(valsI),len(df.columns))] = avgI # fill the rest with the average\n",
    "    else:\n",
    "        df.iloc[i,:] = valsI # fill current values"
   ]
  },
  {
   "cell_type": "markdown",
   "metadata": {},
   "source": [
    "Scale data perform principal component analysis (PCA)"
   ]
  },
  {
   "cell_type": "code",
   "execution_count": 34,
   "metadata": {},
   "outputs": [],
   "source": [
    "# scale data\n",
    "scaler = StandardScaler()\n",
    "scaled = scaler.fit_transform(df)\n",
    "\n",
    "# pca with 10 components\n",
    "pca = PCA(n_components = 10)\n",
    "pca.fit(scaled)\n",
    "scaled_pca = pca.transform(scaled)"
   ]
  },
  {
   "cell_type": "markdown",
   "metadata": {},
   "source": [
    "Perform k-means clustering on data to determine what clusters form in group before stage1 AKI"
   ]
  },
  {
   "cell_type": "code",
   "execution_count": 35,
   "metadata": {},
   "outputs": [
    {
     "data": {
      "text/plain": [
       "KMeans(n_clusters=4)"
      ]
     },
     "execution_count": 35,
     "metadata": {},
     "output_type": "execute_result"
    }
   ],
   "source": [
    "# perform k-means clustering on scaled data\n",
    "kmeans = KMeans(n_clusters = 4)\n",
    "kmeans.fit(scaled_pca)"
   ]
  },
  {
   "cell_type": "markdown",
   "metadata": {},
   "source": [
    "Add kmeans clusters and pca values to original feature dataframe"
   ]
  },
  {
   "cell_type": "code",
   "execution_count": 36,
   "metadata": {},
   "outputs": [],
   "source": [
    "df[\"pca_1\"] = scaled_pca[:,0]\n",
    "df[\"pca_2\"] = scaled_pca[:,1]\n",
    "df[\"clusters\"] = kmeans.labels_"
   ]
  },
  {
   "cell_type": "markdown",
   "metadata": {},
   "source": [
    "Plot PCA with kmeans clusters using matplotlib"
   ]
  },
  {
   "cell_type": "code",
   "execution_count": 37,
   "metadata": {},
   "outputs": [
    {
     "data": {
      "image/png": "[encoded data removed]",
      "text/plain": [
       "<Figure size 432x288 with 1 Axes>"
      ]
     },
     "metadata": {
      "needs_background": "light"
     },
     "output_type": "display_data"
    }
   ],
   "source": [
    "x = df[\"pca_1\"]\n",
    "y = df[\"pca_2\"]\n",
    "clusters = df[\"clusters\"]\n",
    "\n",
    "plt.scatter(x,y,c = clusters)\n",
    "plt.show()"
   ]
  },
  {
   "cell_type": "markdown",
   "metadata": {},
   "source": [
    "Find if those subjects become AKI stage0, stage1, stage2, or stage3"
   ]
  },
  {
   "cell_type": "code",
   "execution_count": 38,
   "metadata": {},
   "outputs": [],
   "source": [
    "future = pd.read_sql_query(\"SELECT subject_id,charttime, valuenum FROM CR WHERE subject_id IN (SELECT subject_id FROM stage0)\",c)\n",
    "future[\"stage\"] = 0\n",
    "future.loc[(future[\"valuenum\"] >= 1.23) & (future[\"valuenum\"] <= 1.62),\"stage\"] = 1\n",
    "future.loc[(future[\"valuenum\"] >= 1.7) & (future[\"valuenum\"] <= 2.47),\"stage\"] = 2\n",
    "future.loc[future[\"valuenum\"] > 2.47,\"stage\"] = 3"
   ]
  },
  {
   "cell_type": "markdown",
   "metadata": {},
   "source": [
    "Get last timepoint stages for each subject"
   ]
  },
  {
   "cell_type": "code",
   "execution_count": 39,
   "metadata": {},
   "outputs": [],
   "source": [
    "df[\"stage\"] = 0\n",
    "# go through each row of the dataframe, find max time point for subject, extract stage \n",
    "for i in range(0,len(df)):\n",
    "    future_i = future.loc[future[\"subject_id\"] == df.index[i]]\n",
    "    maxI = max(future_i[\"charttime\"]) # get value of time series data\n",
    "    stageI = future_i.loc[future_i[\"charttime\"] == maxI,\"stage\"]\n",
    "    if (len(stageI) > 1):\n",
    "        stageI = stageI.iloc[0]\n",
    "    df.iloc[i,171] = stageI"
   ]
  },
  {
   "cell_type": "markdown",
   "metadata": {},
   "source": [
    "Plot these stages with the pca dimensions"
   ]
  },
  {
   "cell_type": "code",
   "execution_count": 40,
   "metadata": {
    "scrolled": true
   },
   "outputs": [
    {
     "data": {
      "image/png": "[encoded data removed]",
      "text/plain": [
       "<Figure size 432x288 with 1 Axes>"
      ]
     },
     "metadata": {
      "needs_background": "light"
     },
     "output_type": "display_data"
    }
   ],
   "source": [
    "stage = df[\"stage\"]\n",
    "\n",
    "plt.scatter(x,y,c = stage)\n",
    "plt.show()"
   ]
  },
  {
   "cell_type": "markdown",
   "metadata": {},
   "source": [
    "Assess performance of predicting future stage of patient using creatinine values from before stage 1 of AKI"
   ]
  },
  {
   "cell_type": "code",
   "execution_count": 41,
   "metadata": {
    "scrolled": true
   },
   "outputs": [
    {
     "name": "stdout",
     "output_type": "stream",
     "text": [
      "Accuracy scores assuming stage0 = cluster 0, stage1 = cluster 1, stage2 = cluster2, stage3 = cluster3 ...  0.015126379245249951\n",
      "Accuracy scores assuming stage0 = cluster 3, stage1 = cluster 2, stage2 = cluster 1, stage3 = cluster 0 ...  0.020556710205414993\n"
     ]
    }
   ],
   "source": [
    "# Assuming stage0 = cluster 0, stage1 = cluster 1, stage2 = cluster2, stage3 = cluster3\n",
    "labels = df[\"stage\"].copy()\n",
    "accScore = adjusted_rand_score(df[\"clusters\"],labels)\n",
    "print(\"Accuracy scores assuming stage0 = cluster 0, stage1 = cluster 1, stage2 = cluster2, stage3 = cluster3 ... \",accScore)\n",
    "\n",
    "# Assuming stage0 = cluster 3, stage1 = cluster 2, stage2 = cluster 1, stage3 = cluster 0\n",
    "labels = df[\"stage\"].copy()\n",
    "labels[labels == 0] = 3\n",
    "labels[labels == 1] = 2\n",
    "labels[labels == 2] = 1\n",
    "labels[labels == 3] = 0\n",
    "accScore = adjusted_rand_score(df[\"clusters\"],labels)\n",
    "print(\"Accuracy scores assuming stage0 = cluster 3, stage1 = cluster 2, stage2 = cluster 1, stage3 = cluster 0 ... \",accScore)"
   ]
  },
  {
   "cell_type": "code",
   "execution_count": 66,
   "metadata": {},
   "outputs": [],
   "source": [
    "vals = pd.read_csv('combination4.txt', delimiter = \"\\t\", header = None) # import table with all possible combinations of 0,1,2,3\n",
    "predict = pd.DataFrame(np.zeros(shape = (24,5)))\n",
    "predict.columns = ['stage0','stage1','stage2','stage3', 'score']\n",
    "predict.iloc[:,range(0,4)] = vals"
   ]
  },
  {
   "cell_type": "markdown",
   "metadata": {},
   "source": [
    "Fill in score values using the values in the data frame as the predicted cluster label for the stages"
   ]
  },
  {
   "cell_type": "code",
   "execution_count": 68,
   "metadata": {},
   "outputs": [],
   "source": [
    "for i in range(0,len(predict)):\n",
    "    labels = df[\"stage\"].copy()\n",
    "    labels[labels == 0] = predict.iloc[i,0] # replace stage is 0 with cluster in data frame (stage0 column)\n",
    "    labels[labels == 1] = predict.iloc[i,1] # replace stage is 1 with cluster in data frame (stage1 column)\n",
    "    labels[labels == 2] = predict.iloc[i,2] # replace stage is 2 with cluster in data frame (stage2 column)\n",
    "    labels[labels == 3] = predict.iloc[i,3] # replace stage is 3 with cluster in data frame (stage3 column)\n",
    "    predict.iloc[i,4] = adjusted_rand_score(df[\"clusters\"],labels) # get accuracy score with this combination i"
   ]
  },
  {
   "cell_type": "code",
   "execution_count": 69,
   "metadata": {},
   "outputs": [
    {
     "data": {
      "text/html": [
       "<div>\n",
       "<style scoped>\n",
       "    .dataframe tbody tr th:only-of-type {\n",
       "        vertical-align: middle;\n",
       "    }\n",
       "\n",
       "    .dataframe tbody tr th {\n",
       "        vertical-align: top;\n",
       "    }\n",
       "\n",
       "    .dataframe thead th {\n",
       "        text-align: right;\n",
       "    }\n",
       "</style>\n",
       "<table border=\"1\" class=\"dataframe\">\n",
       "  <thead>\n",
       "    <tr style=\"text-align: right;\">\n",
       "      <th></th>\n",
       "      <th>stage0</th>\n",
       "      <th>stage1</th>\n",
       "      <th>stage2</th>\n",
       "      <th>stage3</th>\n",
       "      <th>score</th>\n",
       "    </tr>\n",
       "  </thead>\n",
       "  <tbody>\n",
       "    <tr>\n",
       "      <th>0</th>\n",
       "      <td>1.0</td>\n",
       "      <td>2.0</td>\n",
       "      <td>3.0</td>\n",
       "      <td>0.0</td>\n",
       "      <td>0.000000</td>\n",
       "    </tr>\n",
       "    <tr>\n",
       "      <th>1</th>\n",
       "      <td>1.0</td>\n",
       "      <td>2.0</td>\n",
       "      <td>0.0</td>\n",
       "      <td>3.0</td>\n",
       "      <td>0.009996</td>\n",
       "    </tr>\n",
       "    <tr>\n",
       "      <th>2</th>\n",
       "      <td>1.0</td>\n",
       "      <td>3.0</td>\n",
       "      <td>2.0</td>\n",
       "      <td>0.0</td>\n",
       "      <td>0.007735</td>\n",
       "    </tr>\n",
       "    <tr>\n",
       "      <th>3</th>\n",
       "      <td>1.0</td>\n",
       "      <td>3.0</td>\n",
       "      <td>0.0</td>\n",
       "      <td>2.0</td>\n",
       "      <td>0.007735</td>\n",
       "    </tr>\n",
       "    <tr>\n",
       "      <th>4</th>\n",
       "      <td>1.0</td>\n",
       "      <td>0.0</td>\n",
       "      <td>2.0</td>\n",
       "      <td>3.0</td>\n",
       "      <td>0.013968</td>\n",
       "    </tr>\n",
       "    <tr>\n",
       "      <th>5</th>\n",
       "      <td>1.0</td>\n",
       "      <td>0.0</td>\n",
       "      <td>3.0</td>\n",
       "      <td>2.0</td>\n",
       "      <td>0.008560</td>\n",
       "    </tr>\n",
       "    <tr>\n",
       "      <th>6</th>\n",
       "      <td>2.0</td>\n",
       "      <td>1.0</td>\n",
       "      <td>3.0</td>\n",
       "      <td>0.0</td>\n",
       "      <td>-0.006325</td>\n",
       "    </tr>\n",
       "    <tr>\n",
       "      <th>7</th>\n",
       "      <td>2.0</td>\n",
       "      <td>1.0</td>\n",
       "      <td>0.0</td>\n",
       "      <td>3.0</td>\n",
       "      <td>0.001110</td>\n",
       "    </tr>\n",
       "    <tr>\n",
       "      <th>8</th>\n",
       "      <td>2.0</td>\n",
       "      <td>3.0</td>\n",
       "      <td>1.0</td>\n",
       "      <td>0.0</td>\n",
       "      <td>-0.002121</td>\n",
       "    </tr>\n",
       "    <tr>\n",
       "      <th>9</th>\n",
       "      <td>2.0</td>\n",
       "      <td>3.0</td>\n",
       "      <td>0.0</td>\n",
       "      <td>1.0</td>\n",
       "      <td>-0.002121</td>\n",
       "    </tr>\n",
       "    <tr>\n",
       "      <th>10</th>\n",
       "      <td>2.0</td>\n",
       "      <td>0.0</td>\n",
       "      <td>1.0</td>\n",
       "      <td>3.0</td>\n",
       "      <td>0.001110</td>\n",
       "    </tr>\n",
       "    <tr>\n",
       "      <th>11</th>\n",
       "      <td>2.0</td>\n",
       "      <td>0.0</td>\n",
       "      <td>3.0</td>\n",
       "      <td>1.0</td>\n",
       "      <td>-0.006325</td>\n",
       "    </tr>\n",
       "    <tr>\n",
       "      <th>12</th>\n",
       "      <td>3.0</td>\n",
       "      <td>1.0</td>\n",
       "      <td>2.0</td>\n",
       "      <td>0.0</td>\n",
       "      <td>0.011329</td>\n",
       "    </tr>\n",
       "    <tr>\n",
       "      <th>13</th>\n",
       "      <td>3.0</td>\n",
       "      <td>1.0</td>\n",
       "      <td>0.0</td>\n",
       "      <td>2.0</td>\n",
       "      <td>0.011329</td>\n",
       "    </tr>\n",
       "    <tr>\n",
       "      <th>14</th>\n",
       "      <td>3.0</td>\n",
       "      <td>2.0</td>\n",
       "      <td>1.0</td>\n",
       "      <td>0.0</td>\n",
       "      <td>0.020557</td>\n",
       "    </tr>\n",
       "    <tr>\n",
       "      <th>15</th>\n",
       "      <td>3.0</td>\n",
       "      <td>2.0</td>\n",
       "      <td>0.0</td>\n",
       "      <td>1.0</td>\n",
       "      <td>0.020557</td>\n",
       "    </tr>\n",
       "    <tr>\n",
       "      <th>16</th>\n",
       "      <td>3.0</td>\n",
       "      <td>0.0</td>\n",
       "      <td>1.0</td>\n",
       "      <td>2.0</td>\n",
       "      <td>0.011329</td>\n",
       "    </tr>\n",
       "    <tr>\n",
       "      <th>17</th>\n",
       "      <td>3.0</td>\n",
       "      <td>0.0</td>\n",
       "      <td>2.0</td>\n",
       "      <td>1.0</td>\n",
       "      <td>0.011329</td>\n",
       "    </tr>\n",
       "    <tr>\n",
       "      <th>18</th>\n",
       "      <td>0.0</td>\n",
       "      <td>1.0</td>\n",
       "      <td>2.0</td>\n",
       "      <td>3.0</td>\n",
       "      <td>0.015126</td>\n",
       "    </tr>\n",
       "    <tr>\n",
       "      <th>19</th>\n",
       "      <td>0.0</td>\n",
       "      <td>1.0</td>\n",
       "      <td>3.0</td>\n",
       "      <td>2.0</td>\n",
       "      <td>0.008998</td>\n",
       "    </tr>\n",
       "    <tr>\n",
       "      <th>20</th>\n",
       "      <td>0.0</td>\n",
       "      <td>2.0</td>\n",
       "      <td>1.0</td>\n",
       "      <td>3.0</td>\n",
       "      <td>0.025223</td>\n",
       "    </tr>\n",
       "    <tr>\n",
       "      <th>21</th>\n",
       "      <td>0.0</td>\n",
       "      <td>2.0</td>\n",
       "      <td>3.0</td>\n",
       "      <td>1.0</td>\n",
       "      <td>0.015430</td>\n",
       "    </tr>\n",
       "    <tr>\n",
       "      <th>22</th>\n",
       "      <td>0.0</td>\n",
       "      <td>3.0</td>\n",
       "      <td>1.0</td>\n",
       "      <td>2.0</td>\n",
       "      <td>0.011459</td>\n",
       "    </tr>\n",
       "    <tr>\n",
       "      <th>23</th>\n",
       "      <td>0.0</td>\n",
       "      <td>3.0</td>\n",
       "      <td>2.0</td>\n",
       "      <td>1.0</td>\n",
       "      <td>0.011459</td>\n",
       "    </tr>\n",
       "  </tbody>\n",
       "</table>\n",
       "</div>"
      ],
      "text/plain": [
       "    stage0  stage1  stage2  stage3     score\n",
       "0      1.0     2.0     3.0     0.0  0.000000\n",
       "1      1.0     2.0     0.0     3.0  0.009996\n",
       "2      1.0     3.0     2.0     0.0  0.007735\n",
       "3      1.0     3.0     0.0     2.0  0.007735\n",
       "4      1.0     0.0     2.0     3.0  0.013968\n",
       "5      1.0     0.0     3.0     2.0  0.008560\n",
       "6      2.0     1.0     3.0     0.0 -0.006325\n",
       "7      2.0     1.0     0.0     3.0  0.001110\n",
       "8      2.0     3.0     1.0     0.0 -0.002121\n",
       "9      2.0     3.0     0.0     1.0 -0.002121\n",
       "10     2.0     0.0     1.0     3.0  0.001110\n",
       "11     2.0     0.0     3.0     1.0 -0.006325\n",
       "12     3.0     1.0     2.0     0.0  0.011329\n",
       "13     3.0     1.0     0.0     2.0  0.011329\n",
       "14     3.0     2.0     1.0     0.0  0.020557\n",
       "15     3.0     2.0     0.0     1.0  0.020557\n",
       "16     3.0     0.0     1.0     2.0  0.011329\n",
       "17     3.0     0.0     2.0     1.0  0.011329\n",
       "18     0.0     1.0     2.0     3.0  0.015126\n",
       "19     0.0     1.0     3.0     2.0  0.008998\n",
       "20     0.0     2.0     1.0     3.0  0.025223\n",
       "21     0.0     2.0     3.0     1.0  0.015430\n",
       "22     0.0     3.0     1.0     2.0  0.011459\n",
       "23     0.0     3.0     2.0     1.0  0.011459"
      ]
     },
     "execution_count": 69,
     "metadata": {},
     "output_type": "execute_result"
    }
   ],
   "source": [
    "predict"
   ]
  },
  {
   "cell_type": "code",
   "execution_count": 74,
   "metadata": {},
   "outputs": [],
   "source": [
    "c.close() # close connection"
   ]
  }
 ],
 "metadata": {
  "kernelspec": {
   "display_name": "Python 3",
   "language": "python",
   "name": "python3"
  },
  "language_info": {
   "codemirror_mode": {
    "name": "ipython",
    "version": 3
   },
   "file_extension": ".py",
   "mimetype": "text/x-python",
   "name": "python",
   "nbconvert_exporter": "python",
   "pygments_lexer": "ipython3",
   "version": "3.8.3"
  }
 },
 "nbformat": 4,
 "nbformat_minor": 4
}
